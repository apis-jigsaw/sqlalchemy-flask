{
 "cells": [
  {
   "cell_type": "markdown",
   "id": "60c1aebd-2e45-4b02-86ad-ec6281a02ede",
   "metadata": {},
   "source": [
    "# Connecting to Flask"
   ]
  },
  {
   "cell_type": "markdown",
   "id": "c724a634-98fd-4023-879f-dd893cb34467",
   "metadata": {},
   "source": [
    "### Introduction"
   ]
  },
  {
   "cell_type": "markdown",
   "id": "1e754e4a-a643-4655-b6b7-58173fbe554e",
   "metadata": {},
   "source": [
    "In this lesson, we'll show how to connect our sqlalchemy models to flask.  Let's get started."
   ]
  },
  {
   "cell_type": "markdown",
   "id": "949a2007-fefd-492c-a09b-48562fee5361",
   "metadata": {},
   "source": [
    "### Setting up"
   ]
  },
  {
   "cell_type": "markdown",
   "id": "d0a8b862-bc91-4450-8cda-52cea664dcce",
   "metadata": {},
   "source": [
    "To begin, create a database called `moes_bar` in postgres, as you can see in the `create_app` function, that we are conecting to that database."
   ]
  },
  {
   "cell_type": "markdown",
   "id": "9ea957c6-5a93-409b-8c09-b8eb452364bb",
   "metadata": {},
   "source": [
    "Then run the `migrations/create_tables.sql` file, and the `migrations/seed.sql` file against that database."
   ]
  },
  {
   "cell_type": "markdown",
   "id": "009123ac-7f90-4100-98b7-7aefa1221094",
   "metadata": {},
   "source": [
    "```bash\n",
    "psql -f migrations/create_tables.sql -d moes_bar\n",
    "\n",
    "psql -f migrations/seed_tables.sql -d moes_bar\n",
    "```"
   ]
  },
  {
   "cell_type": "markdown",
   "id": "16bd87e7-d1f1-4a87-b8fb-3de5a49cec36",
   "metadata": {},
   "source": [
    "From here, we should be able to boot up our flask application.  "
   ]
  },
  {
   "cell_type": "markdown",
   "id": "8619a22f-5c14-472f-9028-005e979de37c",
   "metadata": {},
   "source": [
    "In bash, you can run the following:\n",
    "    \n",
    "```bash\n",
    "flask run\n",
    "```"
   ]
  },
  {
   "cell_type": "markdown",
   "id": "3442f5b1-2334-4f86-aaad-6a23fe29353a",
   "metadata": {},
   "source": [
    "> This works because `.flaskenv` file specifies the `server.py` file as hosting our flask application."
   ]
  },
  {
   "cell_type": "markdown",
   "id": "eb50e893-985b-4ee1-8c67-f1c0dd16fdfc",
   "metadata": {},
   "source": [
    "Ok, so in the `server.py` file, you can see the various routes that are defined.  \n",
    "\n",
    "```python\n",
    "# server.py\n",
    "app = create_app()\n",
    "\n",
    "@app.route('/bartenders')\n",
    "def bartenders():\n",
    "    bartenders = db.session.query(Bartender).all()\n",
    "    bartender_dicts = [bartender.to_dict() for bartender in bartenders]\n",
    "    \n",
    "    return jsonify(bartender_dicts)\n",
    "\n",
    "@app.route('/bartenders/<int:id>')\n",
    "def bartender(id):\n",
    "    bartender_dict = Bartender.query.get(id).to_dict()\n",
    "    return jsonify(bartender_dict)\n",
    "```\n",
    "\n",
    "So from the shell, call `flask run`.  And then visit the `/bartenders` route."
   ]
  },
  {
   "cell_type": "markdown",
   "id": "9eeb2ddb-ab52-437b-bd21-d4e18d88b15d",
   "metadata": {},
   "source": [
    "Notice that to call the `to_dict()` method, we had to define it in the `Bartender` class.\n",
    "\n",
    "> We could not just call bartender.__dict__ because sqlalchemy also stores a `sa_instance_state` attribute."
   ]
  },
  {
   "cell_type": "markdown",
   "id": "78ea7ccb-17fe-489d-a5e7-f989785ce3b2",
   "metadata": {},
   "source": [
    "<img src=\"./bartender.png\" width=\"100%\">"
   ]
  },
  {
   "cell_type": "markdown",
   "id": "95ac866b-853c-45a7-8155-800924f40dc9",
   "metadata": {},
   "source": [
    "So you can see the code we wrote, which we derived from this [stackoverflow post](https://stackoverflow.com/questions/1958219/how-to-convert-sqlalchemy-row-object-to-a-python-dict)."
   ]
  },
  {
   "cell_type": "markdown",
   "id": "e6543e82-abfb-4d2a-a8fc-24ca5e4a5a5d",
   "metadata": {},
   "source": [
    "### Your turn"
   ]
  },
  {
   "cell_type": "markdown",
   "id": "d95fc720-c245-4b78-8258-b661af8bad17",
   "metadata": {},
   "source": [
    "Now it's your turn to build out the customers resource.  Please add the following routes.\n",
    "\n",
    "* `/customers`\n",
    "    * This should return all of the customers in the database\n",
    "\n",
    "* `/customers/id`\n",
    "    * This should return all the customer with the specified id.\n",
    "    \n",
    "* `Bonus`: update the customers/id route so that when it returns a customer, it also returns a unique list of drink names that the customer ordered. "
   ]
  },
  {
   "cell_type": "markdown",
   "id": "93a7bd9a-911b-48a0-9285-4eed5cc2eea2",
   "metadata": {},
   "source": [
    "### Summary"
   ]
  },
  {
   "cell_type": "markdown",
   "id": "5eb77da6-c42b-461d-88dd-6cf8799e3b15",
   "metadata": {},
   "source": [
    "Ok, so in this lesson, we saw how we can integrate sql alchemy with a flask application.  We simply need to call our related sql alchemy lessons from the appropriate route."
   ]
  }
 ],
 "metadata": {
  "kernelspec": {
   "display_name": "Python 3 (ipykernel)",
   "language": "python",
   "name": "python3"
  },
  "language_info": {
   "codemirror_mode": {
    "name": "ipython",
    "version": 3
   },
   "file_extension": ".py",
   "mimetype": "text/x-python",
   "name": "python",
   "nbconvert_exporter": "python",
   "pygments_lexer": "ipython3",
   "version": "3.9.12"
  }
 },
 "nbformat": 4,
 "nbformat_minor": 5
}
